{
 "cells": [
  {
   "cell_type": "markdown",
   "id": "4a4ed21f",
   "metadata": {},
   "source": [
    "## Mini Project 03- NLP Emotions: Neural Network"
   ]
  },
  {
   "cell_type": "markdown",
   "id": "ba756a17",
   "metadata": {},
   "source": [
    "Dataset:\n",
    "- A. Tripathi, \"Emotion Classification NLP\", Kaggle.com, 2021. [Online]. Available: https://www.kaggle.com/datasets/anjaneyatripathi/emotion-classification-nlp. [Accessed: 16- Jul- 2022]."
   ]
  },
  {
   "cell_type": "markdown",
   "id": "a6af85e4",
   "metadata": {},
   "source": [
    "Sources:\n",
    "- WASSA-2017 Shared Task on Emotion Intensity. Saif M. Mohammad and Felipe Bravo-Marquez. In Proceedings of the EMNLP 2017 Workshop on Computational Approaches to Subjectivity, Sentiment, and Social Media (WASSA), September 2017, Copenhagen, Denmark.\n",
    "BibTex"
   ]
  },
  {
   "cell_type": "markdown",
   "id": "f241a31b",
   "metadata": {},
   "source": [
    "Emotion Labels:\n",
    "- joy: 1\n",
    "- sadness: 2\n",
    "- anger: 3\n",
    "- fear: 4"
   ]
  },
  {
   "cell_type": "markdown",
   "id": "33f1cfc3",
   "metadata": {},
   "source": [
    "### Import Libraries"
   ]
  },
  {
   "cell_type": "code",
   "execution_count": 145,
   "id": "599f53ca",
   "metadata": {},
   "outputs": [
    {
     "name": "stdout",
     "output_type": "stream",
     "text": [
      "Keras version:  2.9.0\n",
      "Tensorflow version:  2.9.1\n"
     ]
    }
   ],
   "source": [
    "# Check keras and tensorflow versions\n",
    "import keras\n",
    "import tensorflow as tf\n",
    "\n",
    "print(\"Keras version: \", keras.__version__)\n",
    "print(\"Tensorflow version: \", tf.__version__)"
   ]
  },
  {
   "cell_type": "code",
   "execution_count": 146,
   "id": "724be987",
   "metadata": {},
   "outputs": [],
   "source": [
    "## Import Libraries\n",
    "import numpy as np\n",
    "import pandas as pd\n",
    "import math\n",
    "import seaborn as sns\n",
    "\n",
    "%matplotlib inline\n",
    "import matplotlib.pyplot as plt\n",
    "from sklearn import datasets\n",
    "from sklearn.linear_model import LinearRegression\n",
    "from sklearn.model_selection import train_test_split\n",
    "\n",
    "# from sklearn.datasets import fetch_olivetti_faces\n",
    "from sklearn.metrics import confusion_matrix\n",
    "from sklearn.metrics import mean_squared_error\n",
    "from sklearn.model_selection import cross_val_score\n",
    "from sklearn.metrics import classification_report\n",
    "\n",
    "# import keras\n",
    "from keras.models import Sequential\n",
    "from keras.layers import Dense\n",
    "from keras.layers import Conv2D\n",
    "from keras.layers import Flatten\n",
    "from keras.utils import to_categorical\n",
    "\n",
    "from sklearn.feature_extraction.text import CountVectorizer, TfidfVectorizer\n",
    "import gc\n",
    "\n",
    "from keras.preprocessing.text import Tokenizer\n",
    "from keras.layers import Convolution1D, Conv1D, Flatten, Dropout, Dense, MaxPooling1D\n",
    "from keras.callbacks import TensorBoard"
   ]
  },
  {
   "cell_type": "markdown",
   "id": "05d042b6",
   "metadata": {},
   "source": [
    "### Load Data"
   ]
  },
  {
   "cell_type": "code",
   "execution_count": 147,
   "id": "273d5928",
   "metadata": {},
   "outputs": [],
   "source": [
    "dfData= pd.read_csv(\"convertedTextDataset.csv\")"
   ]
  },
  {
   "cell_type": "code",
   "execution_count": 148,
   "id": "d43b08c9",
   "metadata": {},
   "outputs": [],
   "source": [
    "dfData.drop(['Unnamed: 0'], axis= 1, inplace= True)"
   ]
  },
  {
   "cell_type": "code",
   "execution_count": 149,
   "id": "4d971eda",
   "metadata": {},
   "outputs": [],
   "source": [
    "dfData['label'].replace({1: 0, 2: 1, 3: 2, 4: 3}, inplace= True)"
   ]
  },
  {
   "cell_type": "code",
   "execution_count": 150,
   "id": "58f225ab",
   "metadata": {},
   "outputs": [
    {
     "data": {
      "text/html": [
       "<div>\n",
       "<style scoped>\n",
       "    .dataframe tbody tr th:only-of-type {\n",
       "        vertical-align: middle;\n",
       "    }\n",
       "\n",
       "    .dataframe tbody tr th {\n",
       "        vertical-align: top;\n",
       "    }\n",
       "\n",
       "    .dataframe thead th {\n",
       "        text-align: right;\n",
       "    }\n",
       "</style>\n",
       "<table border=\"1\" class=\"dataframe\">\n",
       "  <thead>\n",
       "    <tr style=\"text-align: right;\">\n",
       "      <th></th>\n",
       "      <th>text</th>\n",
       "      <th>label</th>\n",
       "      <th>short</th>\n",
       "    </tr>\n",
       "  </thead>\n",
       "  <tbody>\n",
       "    <tr>\n",
       "      <th>0</th>\n",
       "      <td>Just got back from seeing @GaryDelaney in Burs...</td>\n",
       "      <td>0</td>\n",
       "      <td>get see burslem amaze face hurt laugh hilarious</td>\n",
       "    </tr>\n",
       "    <tr>\n",
       "      <th>1</th>\n",
       "      <td>Oh dear an evening of absolute hilarity I don'...</td>\n",
       "      <td>0</td>\n",
       "      <td>dear even absolute hilarity don think laugh lo...</td>\n",
       "    </tr>\n",
       "    <tr>\n",
       "      <th>2</th>\n",
       "      <td>Been waiting all week for this game ❤️❤️❤️ #ch...</td>\n",
       "      <td>0</td>\n",
       "      <td>wait week game red heart red heart red heart c...</td>\n",
       "    </tr>\n",
       "    <tr>\n",
       "      <th>3</th>\n",
       "      <td>@gardiner_love : Thank you so much, Gloria! Yo...</td>\n",
       "      <td>0</td>\n",
       "      <td>thank gloria sweet thoughtful day joyful love ...</td>\n",
       "    </tr>\n",
       "    <tr>\n",
       "      <th>4</th>\n",
       "      <td>I feel so blessed to work with the family that...</td>\n",
       "      <td>0</td>\n",
       "      <td>feel bless work family nanny red heart love am...</td>\n",
       "    </tr>\n",
       "  </tbody>\n",
       "</table>\n",
       "</div>"
      ],
      "text/plain": [
       "                                                text  label  \\\n",
       "0  Just got back from seeing @GaryDelaney in Burs...      0   \n",
       "1  Oh dear an evening of absolute hilarity I don'...      0   \n",
       "2  Been waiting all week for this game ❤️❤️❤️ #ch...      0   \n",
       "3  @gardiner_love : Thank you so much, Gloria! Yo...      0   \n",
       "4  I feel so blessed to work with the family that...      0   \n",
       "\n",
       "                                               short  \n",
       "0    get see burslem amaze face hurt laugh hilarious  \n",
       "1  dear even absolute hilarity don think laugh lo...  \n",
       "2  wait week game red heart red heart red heart c...  \n",
       "3  thank gloria sweet thoughtful day joyful love ...  \n",
       "4  feel bless work family nanny red heart love am...  "
      ]
     },
     "execution_count": 150,
     "metadata": {},
     "output_type": "execute_result"
    }
   ],
   "source": [
    "dfData.head()"
   ]
  },
  {
   "cell_type": "markdown",
   "id": "3232a960",
   "metadata": {},
   "source": [
    "### Split the data into train and test sets"
   ]
  },
  {
   "cell_type": "code",
   "execution_count": 151,
   "id": "3555c8a6",
   "metadata": {},
   "outputs": [],
   "source": [
    "## split the dataset\n",
    "# Features and Labels\n",
    "X= dfData['short']\n",
    "target= dfData['label']\n",
    "# XnlpFeatures= dfNlpFeatures.iloc[:, 2:]\n",
    "# ynlpFeatures= dfNlpFeatures[dfNlpFeatures.columns[1]]\n",
    "y= to_categorical(target)"
   ]
  },
  {
   "cell_type": "code",
   "execution_count": 152,
   "id": "406fbca5",
   "metadata": {},
   "outputs": [],
   "source": [
    "# split the dataset\n",
    "X_train, X_test, y_train, y_test= train_test_split(X, y, test_size= 0.2, random_state= 42)\n",
    "# X_train, X_test, y_train, y_test= train_test_split(XnlpFeatures, ynlpFeatures, test_size= 0.2,\n",
    "#                                                    random_state= 42)"
   ]
  },
  {
   "cell_type": "markdown",
   "id": "f0111fd7",
   "metadata": {},
   "source": [
    "## Feature Engineering"
   ]
  },
  {
   "cell_type": "markdown",
   "id": "560dc96d",
   "metadata": {},
   "source": [
    "### Count Vectors as features"
   ]
  },
  {
   "cell_type": "code",
   "execution_count": 153,
   "id": "a2235bbd",
   "metadata": {},
   "outputs": [
    {
     "name": "stdout",
     "output_type": "stream",
     "text": [
      "CountVectorizer(token_pattern='\\\\w{1,}')\n"
     ]
    }
   ],
   "source": [
    "# create a count vectorizer object\n",
    "count_vect= CountVectorizer(token_pattern = r'\\w{1,}')\n",
    "print(count_vect)\n",
    "# Transform documents to document-term matrix.\n",
    "X_train_count= count_vect.fit_transform(X_train.astype('str'))\n",
    "X_test_count= count_vect.transform(X_test.astype('str'))"
   ]
  },
  {
   "cell_type": "markdown",
   "id": "bae6cb37",
   "metadata": {},
   "source": [
    "### TF-IDF Vectors as features\n",
    "- Word level"
   ]
  },
  {
   "cell_type": "code",
   "execution_count": 154,
   "id": "2fd23d34",
   "metadata": {},
   "outputs": [
    {
     "name": "stdout",
     "output_type": "stream",
     "text": [
      "TfidfVectorizer(max_features=5000, token_pattern='\\\\w{1,}')\n",
      "CPU times: total: 62.5 ms\n",
      "Wall time: 72.8 ms\n"
     ]
    }
   ],
   "source": [
    "%%time\n",
    "# word level tf-idf\n",
    "tfidf_vect = TfidfVectorizer(analyzer = 'word',\n",
    "                             token_pattern = r'\\w{1,}',\n",
    "                             max_features = 5000)\n",
    "print(tfidf_vect)\n",
    "# tfidf_vect.fit(dfData['text'])\n",
    "X_train_tfidf = tfidf_vect.fit_transform(X_train.astype('str'))\n",
    "X_test_tfidf  = tfidf_vect.transform(X_test.astype('str'))"
   ]
  },
  {
   "cell_type": "code",
   "execution_count": 155,
   "id": "2f4c5635",
   "metadata": {},
   "outputs": [],
   "source": [
    "X_trainArr= X_train_count.toarray()\n",
    "X_testArr= X_test_count.toarray()\n",
    "X_trainArr2= X_train_tfidf.toarray()\n",
    "X_testArr2= X_test_tfidf.toarray()"
   ]
  },
  {
   "cell_type": "code",
   "execution_count": 156,
   "id": "894dafdd",
   "metadata": {},
   "outputs": [
    {
     "data": {
      "text/plain": [
       "(5681, 8917)"
      ]
     },
     "execution_count": 156,
     "metadata": {},
     "output_type": "execute_result"
    }
   ],
   "source": [
    "X_trainArr.shape"
   ]
  },
  {
   "cell_type": "code",
   "execution_count": 157,
   "id": "7b96888b",
   "metadata": {},
   "outputs": [
    {
     "data": {
      "text/plain": [
       "8917"
      ]
     },
     "execution_count": 157,
     "metadata": {},
     "output_type": "execute_result"
    }
   ],
   "source": [
    "n_words = X_trainArr.shape[1]\n",
    "n_words"
   ]
  },
  {
   "cell_type": "markdown",
   "id": "f104f8c8",
   "metadata": {},
   "source": [
    "### Create the model's architecture"
   ]
  },
  {
   "cell_type": "code",
   "execution_count": 158,
   "id": "6e2bc45a",
   "metadata": {},
   "outputs": [],
   "source": [
    "# Set up the model architecture\n",
    "model = Sequential()"
   ]
  },
  {
   "cell_type": "markdown",
   "id": "4a32ddac",
   "metadata": {},
   "source": [
    "### Compile the model"
   ]
  },
  {
   "cell_type": "code",
   "execution_count": 159,
   "id": "e6ea69fa",
   "metadata": {},
   "outputs": [],
   "source": [
    "# Add the first hidden layer\n",
    "model.add(Dense(100, activation = 'relu', input_shape = (n_words, )))\n",
    "# Add the second hidden layer\n",
    "model.add(Dense(25, activation = 'relu'))\n",
    "# # Add the third hidden layer\n",
    "model.add(Dense(15, activation = 'relu'))\n",
    "# # # Add the fourth hidden layer\n",
    "# model.add(Dense(8, activation = 'relu'))\n",
    "# Add the output layer\n",
    "model.add(Dense(4, activation = 'softmax'))"
   ]
  },
  {
   "cell_type": "code",
   "execution_count": 160,
   "id": "96e3a6f6",
   "metadata": {},
   "outputs": [
    {
     "name": "stdout",
     "output_type": "stream",
     "text": [
      "Model: \"sequential_24\"\n",
      "_________________________________________________________________\n",
      " Layer (type)                Output Shape              Param #   \n",
      "=================================================================\n",
      " dense_96 (Dense)            (None, 100)               891800    \n",
      "                                                                 \n",
      " dense_97 (Dense)            (None, 25)                2525      \n",
      "                                                                 \n",
      " dense_98 (Dense)            (None, 15)                390       \n",
      "                                                                 \n",
      " dense_99 (Dense)            (None, 4)                 64        \n",
      "                                                                 \n",
      "=================================================================\n",
      "Total params: 894,779\n",
      "Trainable params: 894,779\n",
      "Non-trainable params: 0\n",
      "_________________________________________________________________\n",
      "None\n"
     ]
    }
   ],
   "source": [
    "print(model.summary())"
   ]
  },
  {
   "cell_type": "code",
   "execution_count": 161,
   "id": "a04493f6",
   "metadata": {},
   "outputs": [],
   "source": [
    "# Compile the model\n",
    "model.compile(\n",
    "    optimizer = 'adam',\n",
    "    loss = 'categorical_crossentropy',\n",
    "    metrics = ['accuracy'])"
   ]
  },
  {
   "cell_type": "markdown",
   "id": "b5d07827",
   "metadata": {},
   "source": [
    "### Fit the training data"
   ]
  },
  {
   "cell_type": "code",
   "execution_count": 162,
   "id": "d5b2a1bd",
   "metadata": {},
   "outputs": [
    {
     "data": {
      "text/plain": [
       "(5681, 8917)"
      ]
     },
     "execution_count": 162,
     "metadata": {},
     "output_type": "execute_result"
    }
   ],
   "source": [
    "X_trainArr.shape"
   ]
  },
  {
   "cell_type": "code",
   "execution_count": 163,
   "id": "850b56f4",
   "metadata": {},
   "outputs": [
    {
     "data": {
      "text/plain": [
       "(5681, 4)"
      ]
     },
     "execution_count": 163,
     "metadata": {},
     "output_type": "execute_result"
    }
   ],
   "source": [
    "y_train.shape"
   ]
  },
  {
   "cell_type": "code",
   "execution_count": 164,
   "id": "228e9f43",
   "metadata": {},
   "outputs": [
    {
     "name": "stdout",
     "output_type": "stream",
     "text": [
      "Epoch 1/15\n",
      "213/213 [==============================] - 2s 6ms/step - loss: 1.0834 - accuracy: 0.5538 - val_loss: 0.6461 - val_accuracy: 0.7797\n",
      "Epoch 2/15\n",
      "213/213 [==============================] - 1s 5ms/step - loss: 0.3194 - accuracy: 0.9000 - val_loss: 0.5249 - val_accuracy: 0.8318\n",
      "Epoch 3/15\n",
      "213/213 [==============================] - 1s 5ms/step - loss: 0.1199 - accuracy: 0.9655 - val_loss: 0.5298 - val_accuracy: 0.8318\n",
      "Epoch 4/15\n",
      "213/213 [==============================] - 1s 5ms/step - loss: 0.0754 - accuracy: 0.9746 - val_loss: 0.5627 - val_accuracy: 0.8241\n",
      "Epoch 5/15\n",
      "213/213 [==============================] - 1s 5ms/step - loss: 0.0596 - accuracy: 0.9746 - val_loss: 0.5701 - val_accuracy: 0.8374\n",
      "Epoch 6/15\n",
      "213/213 [==============================] - 1s 5ms/step - loss: 0.0516 - accuracy: 0.9744 - val_loss: 0.5825 - val_accuracy: 0.8360\n",
      "Epoch 7/15\n",
      "213/213 [==============================] - 1s 5ms/step - loss: 0.0444 - accuracy: 0.9763 - val_loss: 0.6145 - val_accuracy: 0.8381\n",
      "Epoch 8/15\n",
      "213/213 [==============================] - 1s 5ms/step - loss: 0.0401 - accuracy: 0.9775 - val_loss: 0.6336 - val_accuracy: 0.8290\n",
      "Epoch 9/15\n",
      "213/213 [==============================] - 1s 5ms/step - loss: 0.0398 - accuracy: 0.9751 - val_loss: 0.6531 - val_accuracy: 0.8325\n",
      "Epoch 10/15\n",
      "213/213 [==============================] - 1s 5ms/step - loss: 0.0373 - accuracy: 0.9763 - val_loss: 0.6701 - val_accuracy: 0.8325\n",
      "Epoch 11/15\n",
      "213/213 [==============================] - 1s 5ms/step - loss: 0.0353 - accuracy: 0.9770 - val_loss: 0.6926 - val_accuracy: 0.8332\n",
      "Epoch 12/15\n",
      "213/213 [==============================] - 1s 5ms/step - loss: 0.0360 - accuracy: 0.9775 - val_loss: 0.6945 - val_accuracy: 0.8325\n",
      "Epoch 13/15\n",
      "213/213 [==============================] - 1s 6ms/step - loss: 0.0367 - accuracy: 0.9782 - val_loss: 0.6912 - val_accuracy: 0.8367\n",
      "Epoch 14/15\n",
      "213/213 [==============================] - 1s 6ms/step - loss: 0.0336 - accuracy: 0.9772 - val_loss: 0.7542 - val_accuracy: 0.8241\n",
      "Epoch 15/15\n",
      "213/213 [==============================] - 1s 6ms/step - loss: 0.0321 - accuracy: 0.9786 - val_loss: 0.7291 - val_accuracy: 0.8311\n",
      "CPU times: total: 1min 14s\n",
      "Wall time: 17.6 s\n"
     ]
    }
   ],
   "source": [
    "%%time\n",
    "# Fit the model\n",
    "history = model.fit(\n",
    "    X_trainArr,\n",
    "    y_train,\n",
    "    validation_split= 0.25,\n",
    "    batch_size= 20,\n",
    "    epochs= 15,\n",
    "    verbose= 1)"
   ]
  },
  {
   "cell_type": "code",
   "execution_count": 165,
   "id": "ea6a4207",
   "metadata": {},
   "outputs": [
    {
     "name": "stdout",
     "output_type": "stream",
     "text": [
      "45/45 [==============================] - 0s 3ms/step\n"
     ]
    }
   ],
   "source": [
    "# predictions = model.predict_classes(X_test)\n",
    "predict_x= model.predict(X_testArr) \n",
    "# classes_x= np.argmax(predict_x, axis=1)\n",
    "classes_x= predict_x.argmax(axis= 1)"
   ]
  },
  {
   "cell_type": "code",
   "execution_count": 166,
   "id": "fe0e1407",
   "metadata": {},
   "outputs": [
    {
     "data": {
      "text/plain": [
       "(1421,)"
      ]
     },
     "execution_count": 166,
     "metadata": {},
     "output_type": "execute_result"
    }
   ],
   "source": [
    "classes_x.shape"
   ]
  },
  {
   "cell_type": "code",
   "execution_count": 167,
   "id": "e14d9467",
   "metadata": {
    "scrolled": true
   },
   "outputs": [
    {
     "data": {
      "text/plain": [
       "(1421, 8917)"
      ]
     },
     "execution_count": 167,
     "metadata": {},
     "output_type": "execute_result"
    }
   ],
   "source": [
    "X_testArr.shape"
   ]
  },
  {
   "cell_type": "code",
   "execution_count": 168,
   "id": "7bd8fc56",
   "metadata": {},
   "outputs": [
    {
     "data": {
      "text/plain": [
       "(1421, 4)"
      ]
     },
     "execution_count": 168,
     "metadata": {},
     "output_type": "execute_result"
    }
   ],
   "source": [
    "y_test.shape"
   ]
  },
  {
   "cell_type": "code",
   "execution_count": 169,
   "id": "16cbea90",
   "metadata": {},
   "outputs": [],
   "source": [
    "import time"
   ]
  },
  {
   "cell_type": "code",
   "execution_count": 170,
   "id": "1de1865f",
   "metadata": {},
   "outputs": [
    {
     "name": "stdout",
     "output_type": "stream",
     "text": [
      "143/143 [==============================] - 0s 2ms/step - loss: 0.7553 - accuracy: 0.8220\n",
      "\n",
      "Test loss: 0.755330, Test accuracy: 0.821956\n",
      "CPU times: total: 578 ms\n",
      "Wall time: 325 ms\n"
     ]
    }
   ],
   "source": [
    "%%time\n",
    "tic01= time.time()\n",
    "score = model.evaluate(X_testArr, y_test, batch_size = 10)\n",
    "print('\\nTest loss: %.6f, Test accuracy: %.6f' % tuple(score))\n",
    "toc01= time.time()\n",
    "runTimeNeural= (toc01-tic01)*1000"
   ]
  },
  {
   "cell_type": "code",
   "execution_count": 171,
   "id": "a9770e08",
   "metadata": {},
   "outputs": [
    {
     "data": {
      "text/plain": [
       "324.51391220092773"
      ]
     },
     "execution_count": 171,
     "metadata": {},
     "output_type": "execute_result"
    }
   ],
   "source": [
    "runTimeNeural"
   ]
  },
  {
   "cell_type": "code",
   "execution_count": 172,
   "id": "7d4f85b4",
   "metadata": {},
   "outputs": [],
   "source": [
    "def print_cm(cm):\n",
    "    c = '%%%dd ' % len('%d' % cm.max())\n",
    "    s = ' | '\n",
    "    s += ''.join([c % i for i in range(len(cm[0]))])\n",
    "    print(s)\n",
    "    print('-' * len(s))\n",
    "    for i, r in enumerate(cm):\n",
    "        s = '%d| ' % i\n",
    "        s += c * len(r)\n",
    "        print(s % tuple(r))"
   ]
  },
  {
   "cell_type": "code",
   "execution_count": 173,
   "id": "87d809b4",
   "metadata": {},
   "outputs": [
    {
     "name": "stdout",
     "output_type": "stream",
     "text": [
      " |   0   1   2   3 \n",
      "-------------------\n",
      "0| 293   6   6  18 \n",
      "1|  24 216  29  47 \n",
      "2|  16  28 271  12 \n",
      "3|  22  33  12 388 \n"
     ]
    }
   ],
   "source": [
    "y_test_target = np.array([x.argmax() for x in y_test])\n",
    "cm = confusion_matrix(y_test_target, classes_x)\n",
    "print_cm(cm)"
   ]
  },
  {
   "cell_type": "code",
   "execution_count": 174,
   "id": "598231d9",
   "metadata": {
    "scrolled": true
   },
   "outputs": [
    {
     "data": {
      "image/png": "[encoded data removed]",
      "text/plain": [
       "<Figure size 576x432 with 1 Axes>"
      ]
     },
     "metadata": {
      "needs_background": "light"
     },
     "output_type": "display_data"
    }
   ],
   "source": [
    "confuseLabels= ('joy', 'sadness', 'anger', 'fear')\n",
    "# plot\n",
    "fig, ax = plt.subplots(1, 1, figsize = (8, 6))\n",
    "fig.subplots_adjust(left = 0.02, right = 0.98, wspace = 0.2)\n",
    "# Confusion Matrix\n",
    "sns.heatmap(cm.T, square= True, annot= True, fmt= 'd', cbar= False, cmap= 'Blues', ax= ax,\n",
    "           xticklabels= confuseLabels, yticklabels= confuseLabels)\n",
    "\n",
    "ax.set_title(f'Confusion Matrix (Neural Network)')\n",
    "ax.set_xlabel('True label')\n",
    "ax.set_ylabel('Predicted label')\n",
    "    \n",
    "plt.savefig('image33.png', facecolor='w', bbox_inches=\"tight\",\n",
    "        pad_inches=0.3, transparent=True)\n",
    "\n",
    "plt.show()"
   ]
  },
  {
   "cell_type": "code",
   "execution_count": 175,
   "id": "7b2f127c",
   "metadata": {},
   "outputs": [],
   "source": [
    "from scikeras.wrappers import KerasRegressor\n",
    "from sklearn.model_selection import KFold\n",
    "from sklearn.model_selection import StratifiedKFold"
   ]
  },
  {
   "cell_type": "code",
   "execution_count": 176,
   "id": "2cc2f392",
   "metadata": {},
   "outputs": [
    {
     "name": "stdout",
     "output_type": "stream",
     "text": [
      "Baseline: 0.62 (0.01) Accuracy\n",
      "CPU times: total: 6min 21s\n",
      "Wall time: 1min 27s\n"
     ]
    }
   ],
   "source": [
    "%%time\n",
    "def baseline_model02():\n",
    "    # create model\n",
    "    model = Sequential()\n",
    "    model.add(Dense(100, activation= 'relu', input_shape= (n_words,)))\n",
    "    model.add(Dense(25, activation= 'relu'))\n",
    "    model.add(Dense(15, activation= 'relu'))\n",
    "    model.add(Dense(4, activation= 'softmax'))\n",
    "    # Compile model\n",
    "    model.compile(\n",
    "        optimizer= 'adam',\n",
    "        loss= 'categorical_crossentropy',\n",
    "        metrics= ['accuracy'])\n",
    "    return model\n",
    "\n",
    "# evaluate model\n",
    "estimator= KerasRegressor(model= baseline_model02, epochs= 15, batch_size= 20, verbose= 0)\n",
    "kfold= KFold(n_splits= 5)\n",
    "results= cross_val_score(estimator, X_trainArr, y_train, cv= kfold)\n",
    "print(\"Baseline: %.2f (%.2f) Accuracy\" % (results.mean(), results.std()))"
   ]
  },
  {
   "cell_type": "code",
   "execution_count": 177,
   "id": "d4649fb8",
   "metadata": {},
   "outputs": [
    {
     "data": {
      "text/plain": [
       "0.6198835989295695"
      ]
     },
     "execution_count": 177,
     "metadata": {},
     "output_type": "execute_result"
    }
   ],
   "source": [
    "meanAcc= results.mean()\n",
    "meanAcc"
   ]
  },
  {
   "cell_type": "code",
   "execution_count": 178,
   "id": "2414a73b",
   "metadata": {},
   "outputs": [
    {
     "name": "stdout",
     "output_type": "stream",
     "text": [
      "              precision    recall  f1-score   support\n",
      "\n",
      "           0       0.90      0.85      0.87       323\n",
      "           1       0.74      0.71      0.73       316\n",
      "           2       0.87      0.81      0.84       327\n",
      "           3       0.78      0.87      0.82       455\n",
      "\n",
      "    accuracy                           0.82      1421\n",
      "   macro avg       0.82      0.81      0.81      1421\n",
      "weighted avg       0.82      0.82      0.82      1421\n",
      "\n"
     ]
    }
   ],
   "source": [
    "neuralClassReport= classification_report(y_test_target, classes_x)\n",
    "print(neuralClassReport)"
   ]
  },
  {
   "cell_type": "code",
   "execution_count": 179,
   "id": "4745a902",
   "metadata": {},
   "outputs": [
    {
     "data": {
      "text/plain": [
       "0.7632508833922261"
      ]
     },
     "execution_count": 179,
     "metadata": {},
     "output_type": "execute_result"
    }
   ],
   "source": [
    "neuralClassReportDict= classification_report(y_test_target, classes_x, output_dict= True)\n",
    "neuralClassReportDict['1']['precision']"
   ]
  },
  {
   "cell_type": "code",
   "execution_count": 180,
   "id": "4534fd13",
   "metadata": {},
   "outputs": [
    {
     "data": {
      "text/plain": [
       "[0.8188032140201138,\n",
       " 0.8180396192372018,\n",
       " 0.8173242815971525,\n",
       " 1421,\n",
       " 'neuralNetwork',\n",
       " 324.51391220092773,\n",
       " 0.6198835989295695]"
      ]
     },
     "execution_count": 180,
     "metadata": {},
     "output_type": "execute_result"
    }
   ],
   "source": [
    "arr01= []\n",
    "for i in neuralClassReportDict['macro avg']:\n",
    "    neuralClassMetric= neuralClassReportDict['macro avg'][i]\n",
    "    arr01.append(neuralClassMetric)\n",
    "\n",
    "arr01.append('neuralNetwork')\n",
    "arr01.append(runTimeNeural)\n",
    "arr01.append(meanAcc)\n",
    "arr01"
   ]
  },
  {
   "cell_type": "code",
   "execution_count": 182,
   "id": "80975265",
   "metadata": {
    "scrolled": true
   },
   "outputs": [
    {
     "data": {
      "image/png": "[encoded data removed]",
      "text/plain": [
       "<Figure size 1440x576 with 2 Axes>"
      ]
     },
     "metadata": {
      "needs_background": "light"
     },
     "output_type": "display_data"
    }
   ],
   "source": [
    "fig, ax = plt.subplots(1, 2, figsize = (20, 8))\n",
    "fig.subplots_adjust(left = 0.02, right = 0.98, wspace = 0.2)\n",
    "\n",
    "plt.rcParams.update({'font.size': 18})\n",
    "\n",
    "# Plot training & validation accuracy values\n",
    "ax[0].plot(history.history['accuracy'], label = 'Training')\n",
    "ax[0].plot(history.history['val_accuracy'], label = 'Validation')\n",
    "ax[0].set_title('Model Accuracy')\n",
    "ax[0].set_ylabel('Accuracy')\n",
    "ax[0].set_xlabel('Epoch')\n",
    "ax[0].legend()\n",
    "\n",
    "# Plot training & validation loss values\n",
    "ax[1].plot(history.history['loss'], label = 'Training')\n",
    "ax[1].plot(history.history['val_loss'], label = 'Validation')\n",
    "ax[1].set_title('Model loss')\n",
    "ax[1].set_ylabel('Loss')\n",
    "ax[1].set_xlabel('Epoch')\n",
    "ax[1].legend()\n",
    "\n",
    "plt.savefig('image34.png', facecolor='w', bbox_inches=\"tight\",\n",
    "        pad_inches=0.3, transparent=True)\n",
    "plt.show()"
   ]
  },
  {
   "cell_type": "code",
   "execution_count": null,
   "id": "81dc63f3",
   "metadata": {},
   "outputs": [],
   "source": []
  }
 ],
 "metadata": {
  "kernelspec": {
   "display_name": "Python 3 (ipykernel)",
   "language": "python",
   "name": "python3"
  },
  "language_info": {
   "codemirror_mode": {
    "name": "ipython",
    "version": 3
   },
   "file_extension": ".py",
   "mimetype": "text/x-python",
   "name": "python",
   "nbconvert_exporter": "python",
   "pygments_lexer": "ipython3",
   "version": "3.10.4"
  }
 },
 "nbformat": 4,
 "nbformat_minor": 5
}
