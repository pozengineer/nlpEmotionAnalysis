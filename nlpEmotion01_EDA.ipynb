{
 "cells": [
  {
   "cell_type": "markdown",
   "id": "53544823",
   "metadata": {},
   "source": [
    "## Mini Project 03- NLP Emotions: Exploratory Data Analysis (EDA)"
   ]
  },
  {
   "cell_type": "markdown",
   "id": "5fdf66dd",
   "metadata": {},
   "source": [
    "Dataset:\n",
    "- A. Tripathi, \"Emotion Classification NLP\", Kaggle.com, 2021. [Online]. Available: https://www.kaggle.com/datasets/anjaneyatripathi/emotion-classification-nlp. [Accessed: 16- Jul- 2022]."
   ]
  },
  {
   "cell_type": "markdown",
   "id": "776035bc",
   "metadata": {},
   "source": [
    "Sources:\n",
    "- WASSA-2017 Shared Task on Emotion Intensity. Saif M. Mohammad and Felipe Bravo-Marquez. In Proceedings of the EMNLP 2017 Workshop on Computational Approaches to Subjectivity, Sentiment, and Social Media (WASSA), September 2017, Copenhagen, Denmark.\n",
    "BibTex"
   ]
  },
  {
   "cell_type": "markdown",
   "id": "2a865414",
   "metadata": {},
   "source": [
    "Emotion Labels:\n",
    "- joy: 1\n",
    "- sadness: 2\n",
    "- anger: 3\n",
    "- fear: 4"
   ]
  },
  {
   "cell_type": "markdown",
   "id": "ffc3d6d1",
   "metadata": {},
   "source": [
    "### Import Libraries"
   ]
  },
  {
   "cell_type": "code",
   "execution_count": 22,
   "id": "117f6539",
   "metadata": {},
   "outputs": [],
   "source": [
    "## Import Libraries\n",
    "import numpy as np\n",
    "import pandas as pd\n",
    "import re as regex\n",
    "import spacy\n",
    "from pathlib import Path\n",
    "import time\n",
    "\n",
    "\n",
    "import matplotlib.pyplot as plt\n",
    "import matplotlib.gridspec as gridspec\n",
    "import seaborn as sns\n",
    "\n",
    "from sklearn.feature_extraction.text import CountVectorizer\n",
    "from sklearn.feature_extraction.text import TfidfVectorizer\n",
    "\n",
    "from sklearn.model_selection import train_test_split\n",
    "\n",
    "from sklearn.svm import SVC\n",
    "\n",
    "from sklearn.metrics import confusion_matrix\n",
    "from sklearn.metrics import accuracy_score\n",
    "from sklearn.metrics import precision_score\n",
    "from sklearn.metrics import recall_score\n",
    "from sklearn.metrics import average_precision_score\n",
    "from sklearn.metrics import roc_auc_score\n",
    "from sklearn.metrics import precision_recall_curve\n",
    "from sklearn.metrics import roc_curve\n",
    "from sklearn.metrics import auc\n",
    "\n",
    "import string\n",
    "from collections import Counter\n",
    "import re as regex\n",
    "\n",
    "from sklearn.decomposition import LatentDirichletAllocation\n",
    "from sklearn.ensemble import GradientBoostingClassifier\n",
    "from sklearn.ensemble import RandomForestClassifier\n",
    "from sklearn.feature_extraction.text import CountVectorizer\n",
    "from sklearn.feature_extraction.text import TfidfVectorizer\n",
    "from sklearn.linear_model import LogisticRegression\n",
    "from sklearn.metrics import accuracy_score\n",
    "from sklearn.model_selection import train_test_split\n",
    "from sklearn.naive_bayes import MultinomialNB\n",
    "from sklearn.svm import LinearSVC\n",
    "\n",
    "import warnings\n",
    "warnings.filterwarnings('ignore')\n",
    "\n",
    "%matplotlib inline"
   ]
  },
  {
   "cell_type": "markdown",
   "id": "4d24fb96",
   "metadata": {},
   "source": [
    "### Load Data"
   ]
  },
  {
   "cell_type": "code",
   "execution_count": 23,
   "id": "6791523a",
   "metadata": {},
   "outputs": [],
   "source": [
    "dfEmotionTrain = pd.read_csv(\"emotion-labels-train.csv\")\n",
    "dfEmotionTest = pd.read_csv(\"emotion-labels-test.csv\")\n",
    "dfEmotionVal = pd.read_csv(\"emotion-labels-val.csv\")"
   ]
  },
  {
   "cell_type": "markdown",
   "id": "46491ca2",
   "metadata": {},
   "source": [
    "### Inspect Data"
   ]
  },
  {
   "cell_type": "code",
   "execution_count": 24,
   "id": "17cac8e4",
   "metadata": {},
   "outputs": [
    {
     "data": {
      "text/html": [
       "<div>\n",
       "<style scoped>\n",
       "    .dataframe tbody tr th:only-of-type {\n",
       "        vertical-align: middle;\n",
       "    }\n",
       "\n",
       "    .dataframe tbody tr th {\n",
       "        vertical-align: top;\n",
       "    }\n",
       "\n",
       "    .dataframe thead th {\n",
       "        text-align: right;\n",
       "    }\n",
       "</style>\n",
       "<table border=\"1\" class=\"dataframe\">\n",
       "  <thead>\n",
       "    <tr style=\"text-align: right;\">\n",
       "      <th></th>\n",
       "      <th>text</th>\n",
       "      <th>label</th>\n",
       "    </tr>\n",
       "  </thead>\n",
       "  <tbody>\n",
       "    <tr>\n",
       "      <th>0</th>\n",
       "      <td>Just got back from seeing @GaryDelaney in Burs...</td>\n",
       "      <td>joy</td>\n",
       "    </tr>\n",
       "    <tr>\n",
       "      <th>1</th>\n",
       "      <td>Oh dear an evening of absolute hilarity I don'...</td>\n",
       "      <td>joy</td>\n",
       "    </tr>\n",
       "    <tr>\n",
       "      <th>2</th>\n",
       "      <td>Been waiting all week for this game ❤️❤️❤️ #ch...</td>\n",
       "      <td>joy</td>\n",
       "    </tr>\n",
       "    <tr>\n",
       "      <th>3</th>\n",
       "      <td>@gardiner_love : Thank you so much, Gloria! Yo...</td>\n",
       "      <td>joy</td>\n",
       "    </tr>\n",
       "    <tr>\n",
       "      <th>4</th>\n",
       "      <td>I feel so blessed to work with the family that...</td>\n",
       "      <td>joy</td>\n",
       "    </tr>\n",
       "  </tbody>\n",
       "</table>\n",
       "</div>"
      ],
      "text/plain": [
       "                                                text label\n",
       "0  Just got back from seeing @GaryDelaney in Burs...   joy\n",
       "1  Oh dear an evening of absolute hilarity I don'...   joy\n",
       "2  Been waiting all week for this game ❤️❤️❤️ #ch...   joy\n",
       "3  @gardiner_love : Thank you so much, Gloria! Yo...   joy\n",
       "4  I feel so blessed to work with the family that...   joy"
      ]
     },
     "execution_count": 24,
     "metadata": {},
     "output_type": "execute_result"
    }
   ],
   "source": [
    "dfEmotionTrain.head()"
   ]
  },
  {
   "cell_type": "code",
   "execution_count": 25,
   "id": "ca9fb847",
   "metadata": {},
   "outputs": [
    {
     "data": {
      "text/plain": [
       "(3613, 2)"
      ]
     },
     "execution_count": 25,
     "metadata": {},
     "output_type": "execute_result"
    }
   ],
   "source": [
    "dfEmotionTrain.shape"
   ]
  },
  {
   "cell_type": "code",
   "execution_count": 26,
   "id": "1b580431",
   "metadata": {},
   "outputs": [
    {
     "data": {
      "text/plain": [
       "fear       1147\n",
       "anger       857\n",
       "joy         823\n",
       "sadness     786\n",
       "Name: label, dtype: int64"
      ]
     },
     "execution_count": 26,
     "metadata": {},
     "output_type": "execute_result"
    }
   ],
   "source": [
    "dfEmotionTrain['label'].value_counts()"
   ]
  },
  {
   "cell_type": "code",
   "execution_count": 27,
   "id": "b5b41741",
   "metadata": {},
   "outputs": [
    {
     "data": {
      "text/plain": [
       "(3142, 2)"
      ]
     },
     "execution_count": 27,
     "metadata": {},
     "output_type": "execute_result"
    }
   ],
   "source": [
    "dfEmotionTest.shape"
   ]
  },
  {
   "cell_type": "code",
   "execution_count": 28,
   "id": "b42f5d56",
   "metadata": {},
   "outputs": [
    {
     "data": {
      "text/plain": [
       "fear       995\n",
       "anger      760\n",
       "joy        714\n",
       "sadness    673\n",
       "Name: label, dtype: int64"
      ]
     },
     "execution_count": 28,
     "metadata": {},
     "output_type": "execute_result"
    }
   ],
   "source": [
    "dfEmotionTest['label'].value_counts()"
   ]
  },
  {
   "cell_type": "code",
   "execution_count": 29,
   "id": "d4a76348",
   "metadata": {},
   "outputs": [
    {
     "data": {
      "text/plain": [
       "(347, 2)"
      ]
     },
     "execution_count": 29,
     "metadata": {},
     "output_type": "execute_result"
    }
   ],
   "source": [
    "dfEmotionVal.shape"
   ]
  },
  {
   "cell_type": "code",
   "execution_count": 30,
   "id": "88837d59",
   "metadata": {},
   "outputs": [
    {
     "data": {
      "text/plain": [
       "fear       110\n",
       "anger       84\n",
       "joy         79\n",
       "sadness     74\n",
       "Name: label, dtype: int64"
      ]
     },
     "execution_count": 30,
     "metadata": {},
     "output_type": "execute_result"
    }
   ],
   "source": [
    "dfEmotionVal['label'].value_counts()"
   ]
  },
  {
   "cell_type": "markdown",
   "id": "ab98e07c",
   "metadata": {},
   "source": [
    "### Merge the Data"
   ]
  },
  {
   "cell_type": "code",
   "execution_count": 31,
   "id": "20f7d6eb",
   "metadata": {},
   "outputs": [],
   "source": [
    "# Merge train, test, and val datasets\n",
    "dfMerge= pd.concat([dfEmotionTrain, dfEmotionVal, dfEmotionTest], axis= 0)"
   ]
  },
  {
   "cell_type": "code",
   "execution_count": 32,
   "id": "9b404a18",
   "metadata": {},
   "outputs": [
    {
     "data": {
      "text/plain": [
       "(7102, 2)"
      ]
     },
     "execution_count": 32,
     "metadata": {},
     "output_type": "execute_result"
    }
   ],
   "source": [
    "dfMerge.shape"
   ]
  },
  {
   "cell_type": "code",
   "execution_count": 33,
   "id": "fcfe12d2",
   "metadata": {},
   "outputs": [
    {
     "name": "stdout",
     "output_type": "stream",
     "text": [
      "<class 'pandas.core.frame.DataFrame'>\n",
      "Int64Index: 7102 entries, 0 to 3141\n",
      "Data columns (total 2 columns):\n",
      " #   Column  Non-Null Count  Dtype \n",
      "---  ------  --------------  ----- \n",
      " 0   text    7102 non-null   object\n",
      " 1   label   7102 non-null   object\n",
      "dtypes: object(2)\n",
      "memory usage: 166.5+ KB\n"
     ]
    }
   ],
   "source": [
    "dfMerge.info()"
   ]
  },
  {
   "cell_type": "code",
   "execution_count": 34,
   "id": "4122b4c5",
   "metadata": {},
   "outputs": [
    {
     "data": {
      "text/plain": [
       "text     0\n",
       "label    0\n",
       "dtype: int64"
      ]
     },
     "execution_count": 34,
     "metadata": {},
     "output_type": "execute_result"
    }
   ],
   "source": [
    "# Check for null values\n",
    "dfMerge.isna().sum()"
   ]
  },
  {
   "cell_type": "code",
   "execution_count": 35,
   "id": "0a1f739c",
   "metadata": {},
   "outputs": [],
   "source": [
    "dfData= dfMerge.copy(deep=True)"
   ]
  },
  {
   "cell_type": "code",
   "execution_count": 36,
   "id": "462855d4",
   "metadata": {},
   "outputs": [],
   "source": [
    "# Replace text labels with numerical values\n",
    "dfData['label'].replace({'joy': 1, 'sadness': 2, 'anger': 3, 'fear': 4}, inplace= True)"
   ]
  },
  {
   "cell_type": "code",
   "execution_count": 37,
   "id": "f8d78d16",
   "metadata": {},
   "outputs": [
    {
     "data": {
      "text/html": [
       "<div>\n",
       "<style scoped>\n",
       "    .dataframe tbody tr th:only-of-type {\n",
       "        vertical-align: middle;\n",
       "    }\n",
       "\n",
       "    .dataframe tbody tr th {\n",
       "        vertical-align: top;\n",
       "    }\n",
       "\n",
       "    .dataframe thead th {\n",
       "        text-align: right;\n",
       "    }\n",
       "</style>\n",
       "<table border=\"1\" class=\"dataframe\">\n",
       "  <thead>\n",
       "    <tr style=\"text-align: right;\">\n",
       "      <th></th>\n",
       "      <th>text</th>\n",
       "      <th>label</th>\n",
       "    </tr>\n",
       "  </thead>\n",
       "  <tbody>\n",
       "    <tr>\n",
       "      <th>2154</th>\n",
       "      <td>Should I give the windy tiger those ankle and ...</td>\n",
       "      <td>3</td>\n",
       "    </tr>\n",
       "    <tr>\n",
       "      <th>2564</th>\n",
       "      <td>#welfarereform should not be a 'model' for .</td>\n",
       "      <td>3</td>\n",
       "    </tr>\n",
       "    <tr>\n",
       "      <th>1510</th>\n",
       "      <td>.@SimonNRicketts if you don't know what a patr...</td>\n",
       "      <td>4</td>\n",
       "    </tr>\n",
       "    <tr>\n",
       "      <th>1169</th>\n",
       "      <td>@eliroth ya know I love ya man, but #TheGreenI...</td>\n",
       "      <td>4</td>\n",
       "    </tr>\n",
       "    <tr>\n",
       "      <th>119</th>\n",
       "      <td>⊰ @FrameOfAnAngel ⊱ \\n\\n+ Of them. I'm here fo...</td>\n",
       "      <td>4</td>\n",
       "    </tr>\n",
       "  </tbody>\n",
       "</table>\n",
       "</div>"
      ],
      "text/plain": [
       "                                                   text  label\n",
       "2154  Should I give the windy tiger those ankle and ...      3\n",
       "2564       #welfarereform should not be a 'model' for .      3\n",
       "1510  .@SimonNRicketts if you don't know what a patr...      4\n",
       "1169  @eliroth ya know I love ya man, but #TheGreenI...      4\n",
       "119   ⊰ @FrameOfAnAngel ⊱ \\n\\n+ Of them. I'm here fo...      4"
      ]
     },
     "execution_count": 37,
     "metadata": {},
     "output_type": "execute_result"
    }
   ],
   "source": [
    "dfData.sample(5)"
   ]
  },
  {
   "cell_type": "code",
   "execution_count": 38,
   "id": "05e4e3a8",
   "metadata": {},
   "outputs": [
    {
     "data": {
      "text/plain": [
       "label\n",
       "anger      1701\n",
       "fear       2252\n",
       "joy        1616\n",
       "sadness    1533\n",
       "Name: text, dtype: int64"
      ]
     },
     "execution_count": 38,
     "metadata": {},
     "output_type": "execute_result"
    }
   ],
   "source": [
    "dfLabelEmotion= dfMerge.groupby('label')['text'].count()\n",
    "# dfLabelNum= dfData.groupby('label')['text'].count()\n",
    "dfLabelEmotion"
   ]
  },
  {
   "cell_type": "code",
   "execution_count": 39,
   "id": "1b1c3ba9",
   "metadata": {},
   "outputs": [
    {
     "data": {
      "text/plain": [
       "array(['anger', 'fear', 'joy', 'sadness'], dtype=object)"
      ]
     },
     "execution_count": 39,
     "metadata": {},
     "output_type": "execute_result"
    }
   ],
   "source": [
    "dfLabelEmotion.index.values"
   ]
  },
  {
   "cell_type": "code",
   "execution_count": 40,
   "id": "369c792f",
   "metadata": {},
   "outputs": [
    {
     "data": {
      "image/png": "[encoded data removed]",
      "text/plain": [
       "<Figure size 720x504 with 1 Axes>"
      ]
     },
     "metadata": {},
     "output_type": "display_data"
    }
   ],
   "source": [
    "# plot frequency of some observations using pie chart\n",
    "plt.rcParams['figure.figsize'] = (10, 7)\n",
    "\n",
    "# fig = plt.figure(figsize =(10, 7))\n",
    "x = np.arange(-10,11,1)\n",
    "labels =  dfLabelEmotion.index\n",
    "frequency = dfLabelEmotion\n",
    "fig1, ax1 = plt.subplots()\n",
    "explode = (0.1, 0.1, 0.1, 0.1)  # only \"explode\" the 3rd slice (i.e. 'Data Scientist')\n",
    "ax1.pie(frequency, explode= explode, labels=labels, autopct='%1.1f%%',\n",
    "        shadow=True, startangle=90)\n",
    "ax1.axis('equal')  # Equal aspect ratio ensures that pie is drawn as a circle.\n",
    "ax1.set_title('Emotion Dataset Percentage')\n",
    "plt.savefig('image01.png', facecolor='w', bbox_inches=\"tight\",\n",
    "            pad_inches=0.3, transparent=True)\n",
    "plt.show()"
   ]
  },
  {
   "cell_type": "code",
   "execution_count": 41,
   "id": "b0d4c00e",
   "metadata": {},
   "outputs": [
    {
     "data": {
      "image/png": "[encoded data removed]",
      "text/plain": [
       "<Figure size 720x504 with 1 Axes>"
      ]
     },
     "metadata": {
      "needs_background": "light"
     },
     "output_type": "display_data"
    }
   ],
   "source": [
    "ax= dfLabelEmotion.plot.barh(x='text', y= dfLabelEmotion.index)\n",
    "# ax.set_xlabel('Months')\n",
    "ax.set_ylabel('Emotion')\n",
    "ax.set_title('Emotion Frequency in Dataset')\n",
    "plt.savefig('image02.png', facecolor='w', bbox_inches=\"tight\",\n",
    "            pad_inches=0.3, transparent=True)"
   ]
  },
  {
   "cell_type": "markdown",
   "id": "8631198e",
   "metadata": {},
   "source": [
    "From initial analysis of the dataset, the graphs indicate that the data is balanced across the 4 emotion labels"
   ]
  },
  {
   "cell_type": "code",
   "execution_count": 42,
   "id": "6fb58329",
   "metadata": {},
   "outputs": [],
   "source": [
    "filepath = Path('textDataset.csv')  \n",
    "filepath.parent.mkdir(parents=True, exist_ok=True)  \n",
    "dfData.to_csv(filepath)"
   ]
  },
  {
   "cell_type": "code",
   "execution_count": null,
   "id": "cef61ce6",
   "metadata": {},
   "outputs": [],
   "source": []
  }
 ],
 "metadata": {
  "kernelspec": {
   "display_name": "Python 3 (ipykernel)",
   "language": "python",
   "name": "python3"
  },
  "language_info": {
   "codemirror_mode": {
    "name": "ipython",
    "version": 3
   },
   "file_extension": ".py",
   "mimetype": "text/x-python",
   "name": "python",
   "nbconvert_exporter": "python",
   "pygments_lexer": "ipython3",
   "version": "3.10.4"
  }
 },
 "nbformat": 4,
 "nbformat_minor": 5
}
